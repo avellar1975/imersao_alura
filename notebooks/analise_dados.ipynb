{
 "cells": [
  {
   "cell_type": "code",
   "execution_count": 38,
   "id": "e8eb0f44",
   "metadata": {},
   "outputs": [],
   "source": [
    "import pandas as pd\n",
    "import matplotlib.pyplot as plt"
   ]
  },
  {
   "cell_type": "markdown",
   "id": "ad6ce342",
   "metadata": {},
   "source": [
    "## Leitura inicial dos datasets"
   ]
  },
  {
   "cell_type": "code",
   "execution_count": 47,
   "id": "bb648571",
   "metadata": {},
   "outputs": [
    {
     "data": {
      "text/html": [
       "<div>\n",
       "<style scoped>\n",
       "    .dataframe tbody tr th:only-of-type {\n",
       "        vertical-align: middle;\n",
       "    }\n",
       "\n",
       "    .dataframe tbody tr th {\n",
       "        vertical-align: top;\n",
       "    }\n",
       "\n",
       "    .dataframe thead th {\n",
       "        text-align: right;\n",
       "    }\n",
       "</style>\n",
       "<table border=\"1\" class=\"dataframe\">\n",
       "  <thead>\n",
       "    <tr style=\"text-align: right;\">\n",
       "      <th></th>\n",
       "      <th>Data</th>\n",
       "      <th>Taxa de desocupação - mensalizada - (%) - Instituto de Pesquisa Econômica Aplicada - PNADC12_TDESOCM12</th>\n",
       "      <th>Unnamed: 2</th>\n",
       "    </tr>\n",
       "  </thead>\n",
       "  <tbody>\n",
       "    <tr>\n",
       "      <th>0</th>\n",
       "      <td>2012.01</td>\n",
       "      <td>8.4</td>\n",
       "      <td>NaN</td>\n",
       "    </tr>\n",
       "    <tr>\n",
       "      <th>1</th>\n",
       "      <td>2012.02</td>\n",
       "      <td>7.9</td>\n",
       "      <td>NaN</td>\n",
       "    </tr>\n",
       "    <tr>\n",
       "      <th>2</th>\n",
       "      <td>2012.03</td>\n",
       "      <td>7.7</td>\n",
       "      <td>NaN</td>\n",
       "    </tr>\n",
       "    <tr>\n",
       "      <th>3</th>\n",
       "      <td>2012.04</td>\n",
       "      <td>7.8</td>\n",
       "      <td>NaN</td>\n",
       "    </tr>\n",
       "    <tr>\n",
       "      <th>4</th>\n",
       "      <td>2012.05</td>\n",
       "      <td>7.6</td>\n",
       "      <td>NaN</td>\n",
       "    </tr>\n",
       "  </tbody>\n",
       "</table>\n",
       "</div>"
      ],
      "text/plain": [
       "      Data  \\\n",
       "0  2012.01   \n",
       "1  2012.02   \n",
       "2  2012.03   \n",
       "3  2012.04   \n",
       "4  2012.05   \n",
       "\n",
       "   Taxa de desocupação - mensalizada - (%) - Instituto de Pesquisa Econômica Aplicada - PNADC12_TDESOCM12  \\\n",
       "0                                                8.4                                                        \n",
       "1                                                7.9                                                        \n",
       "2                                                7.7                                                        \n",
       "3                                                7.8                                                        \n",
       "4                                                7.6                                                        \n",
       "\n",
       "   Unnamed: 2  \n",
       "0         NaN  \n",
       "1         NaN  \n",
       "2         NaN  \n",
       "3         NaN  \n",
       "4         NaN  "
      ]
     },
     "execution_count": 47,
     "metadata": {},
     "output_type": "execute_result"
    }
   ],
   "source": [
    "# Taxa de ocupação mensalizada\n",
    "desocupacao = pd.read_csv('../data/desocupacao.csv')\n",
    "desocupacao.head()"
   ]
  },
  {
   "cell_type": "code",
   "execution_count": 48,
   "id": "e0500af0",
   "metadata": {},
   "outputs": [
    {
     "data": {
      "text/html": [
       "<div>\n",
       "<style scoped>\n",
       "    .dataframe tbody tr th:only-of-type {\n",
       "        vertical-align: middle;\n",
       "    }\n",
       "\n",
       "    .dataframe tbody tr th {\n",
       "        vertical-align: top;\n",
       "    }\n",
       "\n",
       "    .dataframe thead th {\n",
       "        text-align: right;\n",
       "    }\n",
       "</style>\n",
       "<table border=\"1\" class=\"dataframe\">\n",
       "  <thead>\n",
       "    <tr style=\"text-align: right;\">\n",
       "      <th></th>\n",
       "      <th>Data</th>\n",
       "      <th>PIB - R$ - Banco Central do Brasil- Boletim- Seção Atividade Econômica (Bacen / Boletim / Ativ. Ec.) - BM12_PIB12</th>\n",
       "      <th>Unnamed: 2</th>\n",
       "    </tr>\n",
       "  </thead>\n",
       "  <tbody>\n",
       "    <tr>\n",
       "      <th>0</th>\n",
       "      <td>1990.01</td>\n",
       "      <td>0.2</td>\n",
       "      <td>NaN</td>\n",
       "    </tr>\n",
       "    <tr>\n",
       "      <th>1</th>\n",
       "      <td>1990.02</td>\n",
       "      <td>0.4</td>\n",
       "      <td>NaN</td>\n",
       "    </tr>\n",
       "    <tr>\n",
       "      <th>2</th>\n",
       "      <td>1990.03</td>\n",
       "      <td>0.8</td>\n",
       "      <td>NaN</td>\n",
       "    </tr>\n",
       "    <tr>\n",
       "      <th>3</th>\n",
       "      <td>1990.04</td>\n",
       "      <td>0.7</td>\n",
       "      <td>NaN</td>\n",
       "    </tr>\n",
       "    <tr>\n",
       "      <th>4</th>\n",
       "      <td>1990.05</td>\n",
       "      <td>0.8</td>\n",
       "      <td>NaN</td>\n",
       "    </tr>\n",
       "  </tbody>\n",
       "</table>\n",
       "</div>"
      ],
      "text/plain": [
       "      Data  \\\n",
       "0  1990.01   \n",
       "1  1990.02   \n",
       "2  1990.03   \n",
       "3  1990.04   \n",
       "4  1990.05   \n",
       "\n",
       "   PIB - R$ - Banco Central do Brasil- Boletim- Seção Atividade Econômica (Bacen / Boletim / Ativ. Ec.) - BM12_PIB12  \\\n",
       "0                                                0.2                                                                   \n",
       "1                                                0.4                                                                   \n",
       "2                                                0.8                                                                   \n",
       "3                                                0.7                                                                   \n",
       "4                                                0.8                                                                   \n",
       "\n",
       "   Unnamed: 2  \n",
       "0         NaN  \n",
       "1         NaN  \n",
       "2         NaN  \n",
       "3         NaN  \n",
       "4         NaN  "
      ]
     },
     "execution_count": 48,
     "metadata": {},
     "output_type": "execute_result"
    }
   ],
   "source": [
    "pib = pd.read_csv('../data/pib.csv')\n",
    "pib.head()  "
   ]
  },
  {
   "cell_type": "code",
   "execution_count": 49,
   "id": "bf6f9ee5",
   "metadata": {},
   "outputs": [
    {
     "data": {
      "text/html": [
       "<div>\n",
       "<style scoped>\n",
       "    .dataframe tbody tr th:only-of-type {\n",
       "        vertical-align: middle;\n",
       "    }\n",
       "\n",
       "    .dataframe tbody tr th {\n",
       "        vertical-align: top;\n",
       "    }\n",
       "\n",
       "    .dataframe thead th {\n",
       "        text-align: right;\n",
       "    }\n",
       "</style>\n",
       "<table border=\"1\" class=\"dataframe\">\n",
       "  <thead>\n",
       "    <tr style=\"text-align: right;\">\n",
       "      <th></th>\n",
       "      <th>Data</th>\n",
       "      <th>IPCA - geral - taxa de variação - (% a.m.) - Instituto Brasileiro de Geografia e Estatística- Sistema Nacional de Índices de Preços ao Consumidor (IBGE/SNIPC) - PRECOS12_IPCAG12</th>\n",
       "      <th>Unnamed: 2</th>\n",
       "    </tr>\n",
       "  </thead>\n",
       "  <tbody>\n",
       "    <tr>\n",
       "      <th>0</th>\n",
       "      <td>1980.01</td>\n",
       "      <td>6.615649</td>\n",
       "      <td>NaN</td>\n",
       "    </tr>\n",
       "    <tr>\n",
       "      <th>1</th>\n",
       "      <td>1980.02</td>\n",
       "      <td>4.616919</td>\n",
       "      <td>NaN</td>\n",
       "    </tr>\n",
       "    <tr>\n",
       "      <th>2</th>\n",
       "      <td>1980.03</td>\n",
       "      <td>6.038389</td>\n",
       "      <td>NaN</td>\n",
       "    </tr>\n",
       "    <tr>\n",
       "      <th>3</th>\n",
       "      <td>1980.04</td>\n",
       "      <td>5.286114</td>\n",
       "      <td>NaN</td>\n",
       "    </tr>\n",
       "    <tr>\n",
       "      <th>4</th>\n",
       "      <td>1980.05</td>\n",
       "      <td>5.702721</td>\n",
       "      <td>NaN</td>\n",
       "    </tr>\n",
       "  </tbody>\n",
       "</table>\n",
       "</div>"
      ],
      "text/plain": [
       "      Data  \\\n",
       "0  1980.01   \n",
       "1  1980.02   \n",
       "2  1980.03   \n",
       "3  1980.04   \n",
       "4  1980.05   \n",
       "\n",
       "   IPCA - geral - taxa de variação - (% a.m.) - Instituto Brasileiro de Geografia e Estatística- Sistema Nacional de Índices de Preços ao Consumidor (IBGE/SNIPC) - PRECOS12_IPCAG12  \\\n",
       "0                                           6.615649                                                                                                                                   \n",
       "1                                           4.616919                                                                                                                                   \n",
       "2                                           6.038389                                                                                                                                   \n",
       "3                                           5.286114                                                                                                                                   \n",
       "4                                           5.702721                                                                                                                                   \n",
       "\n",
       "   Unnamed: 2  \n",
       "0         NaN  \n",
       "1         NaN  \n",
       "2         NaN  \n",
       "3         NaN  \n",
       "4         NaN  "
      ]
     },
     "execution_count": 49,
     "metadata": {},
     "output_type": "execute_result"
    }
   ],
   "source": [
    "ipca = pd.read_csv('../data/ipca.csv')\n",
    "ipca.head()"
   ]
  },
  {
   "cell_type": "markdown",
   "id": "d579baed",
   "metadata": {},
   "source": [
    "## Ajustes dos datasets"
   ]
  },
  {
   "cell_type": "markdown",
   "id": "6d4d976b",
   "metadata": {},
   "source": [
    "### Renomeando e excluindo colunas desnecessárias"
   ]
  },
  {
   "cell_type": "code",
   "execution_count": 50,
   "id": "3fa83f97",
   "metadata": {},
   "outputs": [
    {
     "data": {
      "text/html": [
       "<div>\n",
       "<style scoped>\n",
       "    .dataframe tbody tr th:only-of-type {\n",
       "        vertical-align: middle;\n",
       "    }\n",
       "\n",
       "    .dataframe tbody tr th {\n",
       "        vertical-align: top;\n",
       "    }\n",
       "\n",
       "    .dataframe thead th {\n",
       "        text-align: right;\n",
       "    }\n",
       "</style>\n",
       "<table border=\"1\" class=\"dataframe\">\n",
       "  <thead>\n",
       "    <tr style=\"text-align: right;\">\n",
       "      <th></th>\n",
       "      <th>Data</th>\n",
       "      <th>IPCA(% a.m.)</th>\n",
       "    </tr>\n",
       "  </thead>\n",
       "  <tbody>\n",
       "    <tr>\n",
       "      <th>0</th>\n",
       "      <td>1980.01</td>\n",
       "      <td>6.615649</td>\n",
       "    </tr>\n",
       "    <tr>\n",
       "      <th>1</th>\n",
       "      <td>1980.02</td>\n",
       "      <td>4.616919</td>\n",
       "    </tr>\n",
       "    <tr>\n",
       "      <th>2</th>\n",
       "      <td>1980.03</td>\n",
       "      <td>6.038389</td>\n",
       "    </tr>\n",
       "    <tr>\n",
       "      <th>3</th>\n",
       "      <td>1980.04</td>\n",
       "      <td>5.286114</td>\n",
       "    </tr>\n",
       "    <tr>\n",
       "      <th>4</th>\n",
       "      <td>1980.05</td>\n",
       "      <td>5.702721</td>\n",
       "    </tr>\n",
       "  </tbody>\n",
       "</table>\n",
       "</div>"
      ],
      "text/plain": [
       "      Data  IPCA(% a.m.)\n",
       "0  1980.01      6.615649\n",
       "1  1980.02      4.616919\n",
       "2  1980.03      6.038389\n",
       "3  1980.04      5.286114\n",
       "4  1980.05      5.702721"
      ]
     },
     "execution_count": 50,
     "metadata": {},
     "output_type": "execute_result"
    }
   ],
   "source": [
    "# Simplificar o nome das colunas e excluir colunas desnecessárias\n",
    "ipca.columns =  ['Data','IPCA(% a.m.)','Unnamed: 2']\n",
    "ipca = ipca.dropna(axis=1)\n",
    "ipca.head()"
   ]
  },
  {
   "cell_type": "code",
   "execution_count": 51,
   "id": "7df46181",
   "metadata": {},
   "outputs": [
    {
     "data": {
      "text/html": [
       "<div>\n",
       "<style scoped>\n",
       "    .dataframe tbody tr th:only-of-type {\n",
       "        vertical-align: middle;\n",
       "    }\n",
       "\n",
       "    .dataframe tbody tr th {\n",
       "        vertical-align: top;\n",
       "    }\n",
       "\n",
       "    .dataframe thead th {\n",
       "        text-align: right;\n",
       "    }\n",
       "</style>\n",
       "<table border=\"1\" class=\"dataframe\">\n",
       "  <thead>\n",
       "    <tr style=\"text-align: right;\">\n",
       "      <th></th>\n",
       "      <th>Data</th>\n",
       "      <th>Desocupacao(% a.m.)</th>\n",
       "    </tr>\n",
       "  </thead>\n",
       "  <tbody>\n",
       "    <tr>\n",
       "      <th>0</th>\n",
       "      <td>2012.01</td>\n",
       "      <td>8.4</td>\n",
       "    </tr>\n",
       "    <tr>\n",
       "      <th>1</th>\n",
       "      <td>2012.02</td>\n",
       "      <td>7.9</td>\n",
       "    </tr>\n",
       "    <tr>\n",
       "      <th>2</th>\n",
       "      <td>2012.03</td>\n",
       "      <td>7.7</td>\n",
       "    </tr>\n",
       "    <tr>\n",
       "      <th>3</th>\n",
       "      <td>2012.04</td>\n",
       "      <td>7.8</td>\n",
       "    </tr>\n",
       "    <tr>\n",
       "      <th>4</th>\n",
       "      <td>2012.05</td>\n",
       "      <td>7.6</td>\n",
       "    </tr>\n",
       "  </tbody>\n",
       "</table>\n",
       "</div>"
      ],
      "text/plain": [
       "      Data  Desocupacao(% a.m.)\n",
       "0  2012.01                  8.4\n",
       "1  2012.02                  7.9\n",
       "2  2012.03                  7.7\n",
       "3  2012.04                  7.8\n",
       "4  2012.05                  7.6"
      ]
     },
     "execution_count": 51,
     "metadata": {},
     "output_type": "execute_result"
    }
   ],
   "source": [
    "# Simplificar o nome das colunas e excluir colunas desnecessárias\n",
    "desocupacao.columns = ['Data', 'Desocupacao(% a.m.)', 'Unnamed: 2']\n",
    "desocupacao = desocupacao.dropna(axis=1)\n",
    "desocupacao.head()"
   ]
  },
  {
   "cell_type": "code",
   "execution_count": 52,
   "id": "b95bbe7c",
   "metadata": {},
   "outputs": [
    {
     "data": {
      "text/html": [
       "<div>\n",
       "<style scoped>\n",
       "    .dataframe tbody tr th:only-of-type {\n",
       "        vertical-align: middle;\n",
       "    }\n",
       "\n",
       "    .dataframe tbody tr th {\n",
       "        vertical-align: top;\n",
       "    }\n",
       "\n",
       "    .dataframe thead th {\n",
       "        text-align: right;\n",
       "    }\n",
       "</style>\n",
       "<table border=\"1\" class=\"dataframe\">\n",
       "  <thead>\n",
       "    <tr style=\"text-align: right;\">\n",
       "      <th></th>\n",
       "      <th>Data</th>\n",
       "      <th>PIB(% a.m.)</th>\n",
       "    </tr>\n",
       "  </thead>\n",
       "  <tbody>\n",
       "    <tr>\n",
       "      <th>0</th>\n",
       "      <td>1990.01</td>\n",
       "      <td>0.2</td>\n",
       "    </tr>\n",
       "    <tr>\n",
       "      <th>1</th>\n",
       "      <td>1990.02</td>\n",
       "      <td>0.4</td>\n",
       "    </tr>\n",
       "    <tr>\n",
       "      <th>2</th>\n",
       "      <td>1990.03</td>\n",
       "      <td>0.8</td>\n",
       "    </tr>\n",
       "    <tr>\n",
       "      <th>3</th>\n",
       "      <td>1990.04</td>\n",
       "      <td>0.7</td>\n",
       "    </tr>\n",
       "    <tr>\n",
       "      <th>4</th>\n",
       "      <td>1990.05</td>\n",
       "      <td>0.8</td>\n",
       "    </tr>\n",
       "  </tbody>\n",
       "</table>\n",
       "</div>"
      ],
      "text/plain": [
       "      Data  PIB(% a.m.)\n",
       "0  1990.01          0.2\n",
       "1  1990.02          0.4\n",
       "2  1990.03          0.8\n",
       "3  1990.04          0.7\n",
       "4  1990.05          0.8"
      ]
     },
     "execution_count": 52,
     "metadata": {},
     "output_type": "execute_result"
    }
   ],
   "source": [
    "# Simplificar o nome das colunas e excluir colunas desnecessárias\n",
    "pib.columns = ['Data', 'PIB(% a.m.)', 'Unnamed: 2']\n",
    "pib = pib.dropna(axis=1)\n",
    "pib.head()"
   ]
  },
  {
   "cell_type": "markdown",
   "id": "74ccd502",
   "metadata": {},
   "source": [
    "### Formatando tipos de dados e redefinindo o index"
   ]
  },
  {
   "cell_type": "code",
   "execution_count": 53,
   "id": "b06dde06",
   "metadata": {},
   "outputs": [
    {
     "data": {
      "text/html": [
       "<div>\n",
       "<style scoped>\n",
       "    .dataframe tbody tr th:only-of-type {\n",
       "        vertical-align: middle;\n",
       "    }\n",
       "\n",
       "    .dataframe tbody tr th {\n",
       "        vertical-align: top;\n",
       "    }\n",
       "\n",
       "    .dataframe thead th {\n",
       "        text-align: right;\n",
       "    }\n",
       "</style>\n",
       "<table border=\"1\" class=\"dataframe\">\n",
       "  <thead>\n",
       "    <tr style=\"text-align: right;\">\n",
       "      <th></th>\n",
       "      <th>IPCA(% a.m.)</th>\n",
       "    </tr>\n",
       "    <tr>\n",
       "      <th>Data</th>\n",
       "      <th></th>\n",
       "    </tr>\n",
       "  </thead>\n",
       "  <tbody>\n",
       "    <tr>\n",
       "      <th>1980-01-01</th>\n",
       "      <td>6.615649</td>\n",
       "    </tr>\n",
       "    <tr>\n",
       "      <th>1980-02-01</th>\n",
       "      <td>4.616919</td>\n",
       "    </tr>\n",
       "    <tr>\n",
       "      <th>1980-03-01</th>\n",
       "      <td>6.038389</td>\n",
       "    </tr>\n",
       "    <tr>\n",
       "      <th>1980-04-01</th>\n",
       "      <td>5.286114</td>\n",
       "    </tr>\n",
       "    <tr>\n",
       "      <th>1980-05-01</th>\n",
       "      <td>5.702721</td>\n",
       "    </tr>\n",
       "  </tbody>\n",
       "</table>\n",
       "</div>"
      ],
      "text/plain": [
       "            IPCA(% a.m.)\n",
       "Data                    \n",
       "1980-01-01      6.615649\n",
       "1980-02-01      4.616919\n",
       "1980-03-01      6.038389\n",
       "1980-04-01      5.286114\n",
       "1980-05-01      5.702721"
      ]
     },
     "execution_count": 53,
     "metadata": {},
     "output_type": "execute_result"
    }
   ],
   "source": [
    "# Ajustar o tipo de dado da coluna 'Data' para datetime\n",
    "ipca['Data'] = ipca['Data'].astype(str).str.replace('.', '-')\n",
    "ipca['Data'] = pd.to_datetime(ipca['Data'], format='%Y-%m')\n",
    "ipca.set_index('Data', inplace=True)\n",
    "ipca.head()"
   ]
  },
  {
   "cell_type": "code",
   "execution_count": 54,
   "id": "eef55497",
   "metadata": {},
   "outputs": [
    {
     "data": {
      "text/html": [
       "<div>\n",
       "<style scoped>\n",
       "    .dataframe tbody tr th:only-of-type {\n",
       "        vertical-align: middle;\n",
       "    }\n",
       "\n",
       "    .dataframe tbody tr th {\n",
       "        vertical-align: top;\n",
       "    }\n",
       "\n",
       "    .dataframe thead th {\n",
       "        text-align: right;\n",
       "    }\n",
       "</style>\n",
       "<table border=\"1\" class=\"dataframe\">\n",
       "  <thead>\n",
       "    <tr style=\"text-align: right;\">\n",
       "      <th></th>\n",
       "      <th>PIB(% a.m.)</th>\n",
       "    </tr>\n",
       "    <tr>\n",
       "      <th>Data</th>\n",
       "      <th></th>\n",
       "    </tr>\n",
       "  </thead>\n",
       "  <tbody>\n",
       "    <tr>\n",
       "      <th>1990-01-01</th>\n",
       "      <td>0.2</td>\n",
       "    </tr>\n",
       "    <tr>\n",
       "      <th>1990-02-01</th>\n",
       "      <td>0.4</td>\n",
       "    </tr>\n",
       "    <tr>\n",
       "      <th>1990-03-01</th>\n",
       "      <td>0.8</td>\n",
       "    </tr>\n",
       "    <tr>\n",
       "      <th>1990-04-01</th>\n",
       "      <td>0.7</td>\n",
       "    </tr>\n",
       "    <tr>\n",
       "      <th>1990-05-01</th>\n",
       "      <td>0.8</td>\n",
       "    </tr>\n",
       "  </tbody>\n",
       "</table>\n",
       "</div>"
      ],
      "text/plain": [
       "            PIB(% a.m.)\n",
       "Data                   \n",
       "1990-01-01          0.2\n",
       "1990-02-01          0.4\n",
       "1990-03-01          0.8\n",
       "1990-04-01          0.7\n",
       "1990-05-01          0.8"
      ]
     },
     "execution_count": 54,
     "metadata": {},
     "output_type": "execute_result"
    }
   ],
   "source": [
    "# Ajustar o tipo de dado da coluna 'Data' para datetime\n",
    "pib['Data'] = pib['Data'].astype(str).str.replace('.', '-')\n",
    "pib['Data'] = pd.to_datetime(pib['Data'], format='%Y-%m')\n",
    "pib.set_index('Data', inplace=True)\n",
    "pib.head()"
   ]
  },
  {
   "cell_type": "code",
   "execution_count": 55,
   "id": "76c43e2f",
   "metadata": {},
   "outputs": [
    {
     "data": {
      "text/html": [
       "<div>\n",
       "<style scoped>\n",
       "    .dataframe tbody tr th:only-of-type {\n",
       "        vertical-align: middle;\n",
       "    }\n",
       "\n",
       "    .dataframe tbody tr th {\n",
       "        vertical-align: top;\n",
       "    }\n",
       "\n",
       "    .dataframe thead th {\n",
       "        text-align: right;\n",
       "    }\n",
       "</style>\n",
       "<table border=\"1\" class=\"dataframe\">\n",
       "  <thead>\n",
       "    <tr style=\"text-align: right;\">\n",
       "      <th></th>\n",
       "      <th>Desocupacao(% a.m.)</th>\n",
       "    </tr>\n",
       "    <tr>\n",
       "      <th>Data</th>\n",
       "      <th></th>\n",
       "    </tr>\n",
       "  </thead>\n",
       "  <tbody>\n",
       "    <tr>\n",
       "      <th>2012-01-01</th>\n",
       "      <td>8.4</td>\n",
       "    </tr>\n",
       "    <tr>\n",
       "      <th>2012-02-01</th>\n",
       "      <td>7.9</td>\n",
       "    </tr>\n",
       "    <tr>\n",
       "      <th>2012-03-01</th>\n",
       "      <td>7.7</td>\n",
       "    </tr>\n",
       "    <tr>\n",
       "      <th>2012-04-01</th>\n",
       "      <td>7.8</td>\n",
       "    </tr>\n",
       "    <tr>\n",
       "      <th>2012-05-01</th>\n",
       "      <td>7.6</td>\n",
       "    </tr>\n",
       "  </tbody>\n",
       "</table>\n",
       "</div>"
      ],
      "text/plain": [
       "            Desocupacao(% a.m.)\n",
       "Data                           \n",
       "2012-01-01                  8.4\n",
       "2012-02-01                  7.9\n",
       "2012-03-01                  7.7\n",
       "2012-04-01                  7.8\n",
       "2012-05-01                  7.6"
      ]
     },
     "execution_count": 55,
     "metadata": {},
     "output_type": "execute_result"
    }
   ],
   "source": [
    "# Ajustar o tipo de dado da coluna 'Data' para datetime\n",
    "desocupacao['Data'] = desocupacao['Data'].astype(str).str.replace('.', '-')\n",
    "desocupacao['Data'] = pd.to_datetime(desocupacao['Data'], format='%Y-%m')\n",
    "desocupacao.set_index('Data', inplace=True)\n",
    "desocupacao.head()"
   ]
  },
  {
   "cell_type": "markdown",
   "id": "6bfee74d",
   "metadata": {},
   "source": [
    "## Verificando o melhor intervalo"
   ]
  },
  {
   "cell_type": "code",
   "execution_count": 56,
   "id": "9eb38ae3",
   "metadata": {},
   "outputs": [
    {
     "name": "stdout",
     "output_type": "stream",
     "text": [
      "1980-01-01 00:00:00 1990-01-01 00:00:00 2012-01-01 00:00:00\n",
      "2025-06-01 00:00:00 2025-06-01 00:00:00 2025-05-01 00:00:00\n"
     ]
    }
   ],
   "source": [
    "print(ipca.index.min(), pib.index.min(), desocupacao.index.min())\n",
    "print(ipca.index.max(), pib.index.max(), desocupacao.index.max())"
   ]
  },
  {
   "cell_type": "code",
   "execution_count": 57,
   "id": "81fc7b49",
   "metadata": {},
   "outputs": [],
   "source": [
    "ipca = ipca.sort_index()\n",
    "ipca = ipca.loc['2012-01-01':'2025-05-01']\n",
    "pib = pib.sort_index()\n",
    "pib = pib.loc['2012-01-01':'2025-05-01']\n",
    "desocupacao = desocupacao.sort_index()\n",
    "desocupacao = desocupacao.loc['2012-01-01':'2025-05-01']"
   ]
  },
  {
   "cell_type": "markdown",
   "id": "5eac81d6",
   "metadata": {},
   "source": [
    "# Visualizando com gráficos"
   ]
  },
  {
   "cell_type": "code",
   "execution_count": 58,
   "id": "42cb2e30",
   "metadata": {},
   "outputs": [
    {
     "data": {
      "text/plain": [
       "<Axes: xlabel='Data'>"
      ]
     },
     "execution_count": 58,
     "metadata": {},
     "output_type": "execute_result"
    },
    {
     "data": {
      "image/png": "[encoded data removed]",
      "text/plain": [
       "<Figure size 640x480 with 1 Axes>"
      ]
     },
     "metadata": {},
     "output_type": "display_data"
    }
   ],
   "source": [
    "ipca.plot()"
   ]
  },
  {
   "cell_type": "code",
   "execution_count": 59,
   "id": "8d5f04de",
   "metadata": {},
   "outputs": [
    {
     "data": {
      "text/plain": [
       "<Axes: xlabel='Data'>"
      ]
     },
     "execution_count": 59,
     "metadata": {},
     "output_type": "execute_result"
    },
    {
     "data": {
      "image/png": "[encoded data removed]",
      "text/plain": [
       "<Figure size 640x480 with 1 Axes>"
      ]
     },
     "metadata": {},
     "output_type": "display_data"
    }
   ],
   "source": [
    "pib.plot()"
   ]
  },
  {
   "cell_type": "code",
   "execution_count": 60,
   "id": "134d052f",
   "metadata": {},
   "outputs": [
    {
     "data": {
      "text/plain": [
       "<Axes: xlabel='Data'>"
      ]
     },
     "execution_count": 60,
     "metadata": {},
     "output_type": "execute_result"
    },
    {
     "data": {
      "image/png": "[encoded data removed]",
      "text/plain": [
       "<Figure size 640x480 with 1 Axes>"
      ]
     },
     "metadata": {},
     "output_type": "display_data"
    }
   ],
   "source": [
    "desocupacao.plot()"
   ]
  },
  {
   "cell_type": "code",
   "execution_count": 63,
   "id": "51457d7b",
   "metadata": {},
   "outputs": [
    {
     "data": {
      "text/html": [
       "<div>\n",
       "<style scoped>\n",
       "    .dataframe tbody tr th:only-of-type {\n",
       "        vertical-align: middle;\n",
       "    }\n",
       "\n",
       "    .dataframe tbody tr th {\n",
       "        vertical-align: top;\n",
       "    }\n",
       "\n",
       "    .dataframe thead th {\n",
       "        text-align: right;\n",
       "    }\n",
       "</style>\n",
       "<table border=\"1\" class=\"dataframe\">\n",
       "  <thead>\n",
       "    <tr style=\"text-align: right;\">\n",
       "      <th></th>\n",
       "      <th>IPCA</th>\n",
       "      <th>PIB</th>\n",
       "      <th>Desocupacao</th>\n",
       "    </tr>\n",
       "    <tr>\n",
       "      <th>Data</th>\n",
       "      <th></th>\n",
       "      <th></th>\n",
       "      <th></th>\n",
       "    </tr>\n",
       "  </thead>\n",
       "  <tbody>\n",
       "    <tr>\n",
       "      <th>2012-01-01</th>\n",
       "      <td>0.59</td>\n",
       "      <td>367215.4</td>\n",
       "      <td>8.4</td>\n",
       "    </tr>\n",
       "    <tr>\n",
       "      <th>2012-01-01</th>\n",
       "      <td>0.56</td>\n",
       "      <td>422672.1</td>\n",
       "      <td>7.1</td>\n",
       "    </tr>\n",
       "    <tr>\n",
       "      <th>2012-02-01</th>\n",
       "      <td>0.45</td>\n",
       "      <td>367177.3</td>\n",
       "      <td>7.9</td>\n",
       "    </tr>\n",
       "    <tr>\n",
       "      <th>2012-03-01</th>\n",
       "      <td>0.21</td>\n",
       "      <td>392996.5</td>\n",
       "      <td>7.7</td>\n",
       "    </tr>\n",
       "    <tr>\n",
       "      <th>2012-04-01</th>\n",
       "      <td>0.64</td>\n",
       "      <td>381795.3</td>\n",
       "      <td>7.8</td>\n",
       "    </tr>\n",
       "    <tr>\n",
       "      <th>...</th>\n",
       "      <td>...</td>\n",
       "      <td>...</td>\n",
       "      <td>...</td>\n",
       "    </tr>\n",
       "    <tr>\n",
       "      <th>2025-01-01</th>\n",
       "      <td>0.16</td>\n",
       "      <td>964246.7</td>\n",
       "      <td>7.1</td>\n",
       "    </tr>\n",
       "    <tr>\n",
       "      <th>2025-02-01</th>\n",
       "      <td>1.31</td>\n",
       "      <td>993590.8</td>\n",
       "      <td>7.2</td>\n",
       "    </tr>\n",
       "    <tr>\n",
       "      <th>2025-03-01</th>\n",
       "      <td>0.56</td>\n",
       "      <td>1061741.3</td>\n",
       "      <td>6.7</td>\n",
       "    </tr>\n",
       "    <tr>\n",
       "      <th>2025-04-01</th>\n",
       "      <td>0.43</td>\n",
       "      <td>1064792.5</td>\n",
       "      <td>5.9</td>\n",
       "    </tr>\n",
       "    <tr>\n",
       "      <th>2025-05-01</th>\n",
       "      <td>0.26</td>\n",
       "      <td>1046835.0</td>\n",
       "      <td>5.9</td>\n",
       "    </tr>\n",
       "  </tbody>\n",
       "</table>\n",
       "<p>161 rows × 3 columns</p>\n",
       "</div>"
      ],
      "text/plain": [
       "            IPCA        PIB  Desocupacao\n",
       "Data                                    \n",
       "2012-01-01  0.59   367215.4          8.4\n",
       "2012-01-01  0.56   422672.1          7.1\n",
       "2012-02-01  0.45   367177.3          7.9\n",
       "2012-03-01  0.21   392996.5          7.7\n",
       "2012-04-01  0.64   381795.3          7.8\n",
       "...          ...        ...          ...\n",
       "2025-01-01  0.16   964246.7          7.1\n",
       "2025-02-01  1.31   993590.8          7.2\n",
       "2025-03-01  0.56  1061741.3          6.7\n",
       "2025-04-01  0.43  1064792.5          5.9\n",
       "2025-05-01  0.26  1046835.0          5.9\n",
       "\n",
       "[161 rows x 3 columns]"
      ]
     },
     "execution_count": 63,
     "metadata": {},
     "output_type": "execute_result"
    }
   ],
   "source": [
    "# Consolidação dos datasets em um único DataFrame\n",
    "df = pd.concat([ipca, pib, desocupacao], axis=1)\n",
    "df.columns = ['IPCA', 'PIB', 'Desocupacao']\n",
    "df = df.dropna()    \n",
    "df"
   ]
  },
  {
   "cell_type": "code",
   "execution_count": 64,
   "id": "0b0a2bd7",
   "metadata": {},
   "outputs": [
    {
     "data": {
      "text/plain": [
       "<Axes: xlabel='Data'>"
      ]
     },
     "execution_count": 64,
     "metadata": {},
     "output_type": "execute_result"
    },
    {
     "data": {
      "image/png": "[encoded data removed]",
      "text/plain": [
       "<Figure size 640x480 with 1 Axes>"
      ]
     },
     "metadata": {},
     "output_type": "display_data"
    }
   ],
   "source": [
    "## Normalizando os dados\n",
    "df_normalizado = (df - df.min()) / (df.max() - df.min())\n",
    "df_normalizado.plot()"
   ]
  },
  {
   "cell_type": "code",
   "execution_count": 65,
   "id": "46c093c3",
   "metadata": {},
   "outputs": [
    {
     "data": {
      "text/html": [
       "<div>\n",
       "<style scoped>\n",
       "    .dataframe tbody tr th:only-of-type {\n",
       "        vertical-align: middle;\n",
       "    }\n",
       "\n",
       "    .dataframe tbody tr th {\n",
       "        vertical-align: top;\n",
       "    }\n",
       "\n",
       "    .dataframe thead th {\n",
       "        text-align: right;\n",
       "    }\n",
       "</style>\n",
       "<table border=\"1\" class=\"dataframe\">\n",
       "  <thead>\n",
       "    <tr style=\"text-align: right;\">\n",
       "      <th></th>\n",
       "      <th>IPCA</th>\n",
       "      <th>PIB</th>\n",
       "      <th>Desocupacao</th>\n",
       "      <th>Ano</th>\n",
       "    </tr>\n",
       "    <tr>\n",
       "      <th>Data</th>\n",
       "      <th></th>\n",
       "      <th></th>\n",
       "      <th></th>\n",
       "      <th></th>\n",
       "    </tr>\n",
       "  </thead>\n",
       "  <tbody>\n",
       "    <tr>\n",
       "      <th>2012-01-01</th>\n",
       "      <td>0.552174</td>\n",
       "      <td>0.000055</td>\n",
       "      <td>0.268817</td>\n",
       "      <td>2012</td>\n",
       "    </tr>\n",
       "    <tr>\n",
       "      <th>2012-01-01</th>\n",
       "      <td>0.539130</td>\n",
       "      <td>0.079549</td>\n",
       "      <td>0.129032</td>\n",
       "      <td>2012</td>\n",
       "    </tr>\n",
       "    <tr>\n",
       "      <th>2012-02-01</th>\n",
       "      <td>0.491304</td>\n",
       "      <td>0.000000</td>\n",
       "      <td>0.215054</td>\n",
       "      <td>2012</td>\n",
       "    </tr>\n",
       "    <tr>\n",
       "      <th>2012-03-01</th>\n",
       "      <td>0.386957</td>\n",
       "      <td>0.037011</td>\n",
       "      <td>0.193548</td>\n",
       "      <td>2012</td>\n",
       "    </tr>\n",
       "    <tr>\n",
       "      <th>2012-04-01</th>\n",
       "      <td>0.573913</td>\n",
       "      <td>0.020954</td>\n",
       "      <td>0.204301</td>\n",
       "      <td>2012</td>\n",
       "    </tr>\n",
       "  </tbody>\n",
       "</table>\n",
       "</div>"
      ],
      "text/plain": [
       "                IPCA       PIB  Desocupacao   Ano\n",
       "Data                                             \n",
       "2012-01-01  0.552174  0.000055     0.268817  2012\n",
       "2012-01-01  0.539130  0.079549     0.129032  2012\n",
       "2012-02-01  0.491304  0.000000     0.215054  2012\n",
       "2012-03-01  0.386957  0.037011     0.193548  2012\n",
       "2012-04-01  0.573913  0.020954     0.204301  2012"
      ]
     },
     "execution_count": 65,
     "metadata": {},
     "output_type": "execute_result"
    }
   ],
   "source": [
    "df_normalizado['Ano'] = df.index.year\n",
    "df_normalizado.head()"
   ]
  },
  {
   "cell_type": "markdown",
   "id": "1efa9e5e",
   "metadata": {},
   "source": [
    "## Gerar arquivo mantendo as formatações dos tipos de dados"
   ]
  },
  {
   "cell_type": "code",
   "execution_count": 66,
   "id": "d7df9f3d",
   "metadata": {},
   "outputs": [],
   "source": [
    "df_normalizado.to_parquet('dados_normalizados.parquet')"
   ]
  },
  {
   "cell_type": "markdown",
   "id": "a4f4fb1e",
   "metadata": {},
   "source": [
    "## Lendo do repositório"
   ]
  },
  {
   "cell_type": "code",
   "execution_count": 79,
   "id": "2fd77e2e",
   "metadata": {},
   "outputs": [
    {
     "data": {
      "text/html": [
       "<div>\n",
       "<style scoped>\n",
       "    .dataframe tbody tr th:only-of-type {\n",
       "        vertical-align: middle;\n",
       "    }\n",
       "\n",
       "    .dataframe tbody tr th {\n",
       "        vertical-align: top;\n",
       "    }\n",
       "\n",
       "    .dataframe thead th {\n",
       "        text-align: right;\n",
       "    }\n",
       "</style>\n",
       "<table border=\"1\" class=\"dataframe\">\n",
       "  <thead>\n",
       "    <tr style=\"text-align: right;\">\n",
       "      <th></th>\n",
       "      <th>IPCA</th>\n",
       "      <th>PIB</th>\n",
       "      <th>Desocupacao</th>\n",
       "      <th>Ano</th>\n",
       "    </tr>\n",
       "    <tr>\n",
       "      <th>Data</th>\n",
       "      <th></th>\n",
       "      <th></th>\n",
       "      <th></th>\n",
       "      <th></th>\n",
       "    </tr>\n",
       "  </thead>\n",
       "  <tbody>\n",
       "    <tr>\n",
       "      <th>2012-01-01</th>\n",
       "      <td>0.552174</td>\n",
       "      <td>0.000055</td>\n",
       "      <td>0.268817</td>\n",
       "      <td>2012</td>\n",
       "    </tr>\n",
       "    <tr>\n",
       "      <th>2012-01-01</th>\n",
       "      <td>0.539130</td>\n",
       "      <td>0.079549</td>\n",
       "      <td>0.129032</td>\n",
       "      <td>2012</td>\n",
       "    </tr>\n",
       "    <tr>\n",
       "      <th>2012-02-01</th>\n",
       "      <td>0.491304</td>\n",
       "      <td>0.000000</td>\n",
       "      <td>0.215054</td>\n",
       "      <td>2012</td>\n",
       "    </tr>\n",
       "    <tr>\n",
       "      <th>2012-03-01</th>\n",
       "      <td>0.386957</td>\n",
       "      <td>0.037011</td>\n",
       "      <td>0.193548</td>\n",
       "      <td>2012</td>\n",
       "    </tr>\n",
       "    <tr>\n",
       "      <th>2012-04-01</th>\n",
       "      <td>0.573913</td>\n",
       "      <td>0.020954</td>\n",
       "      <td>0.204301</td>\n",
       "      <td>2012</td>\n",
       "    </tr>\n",
       "    <tr>\n",
       "      <th>2012-05-01</th>\n",
       "      <td>0.452174</td>\n",
       "      <td>0.047453</td>\n",
       "      <td>0.182796</td>\n",
       "      <td>2012</td>\n",
       "    </tr>\n",
       "    <tr>\n",
       "      <th>2012-06-01</th>\n",
       "      <td>0.330435</td>\n",
       "      <td>0.045207</td>\n",
       "      <td>0.161290</td>\n",
       "      <td>2012</td>\n",
       "    </tr>\n",
       "    <tr>\n",
       "      <th>2012-07-01</th>\n",
       "      <td>0.482609</td>\n",
       "      <td>0.068003</td>\n",
       "      <td>0.182796</td>\n",
       "      <td>2012</td>\n",
       "    </tr>\n",
       "    <tr>\n",
       "      <th>2012-08-01</th>\n",
       "      <td>0.473913</td>\n",
       "      <td>0.075585</td>\n",
       "      <td>0.129032</td>\n",
       "      <td>2012</td>\n",
       "    </tr>\n",
       "    <tr>\n",
       "      <th>2012-09-01</th>\n",
       "      <td>0.543478</td>\n",
       "      <td>0.037768</td>\n",
       "      <td>0.086021</td>\n",
       "      <td>2012</td>\n",
       "    </tr>\n",
       "    <tr>\n",
       "      <th>2012-11-01</th>\n",
       "      <td>0.556522</td>\n",
       "      <td>0.081190</td>\n",
       "      <td>0.086021</td>\n",
       "      <td>2012</td>\n",
       "    </tr>\n",
       "    <tr>\n",
       "      <th>2012-12-01</th>\n",
       "      <td>0.639130</td>\n",
       "      <td>0.080300</td>\n",
       "      <td>0.118280</td>\n",
       "      <td>2012</td>\n",
       "    </tr>\n",
       "    <tr>\n",
       "      <th>2013-01-01</th>\n",
       "      <td>0.543478</td>\n",
       "      <td>0.141896</td>\n",
       "      <td>0.236559</td>\n",
       "      <td>2013</td>\n",
       "    </tr>\n",
       "  </tbody>\n",
       "</table>\n",
       "</div>"
      ],
      "text/plain": [
       "                IPCA       PIB  Desocupacao   Ano\n",
       "Data                                             \n",
       "2012-01-01  0.552174  0.000055     0.268817  2012\n",
       "2012-01-01  0.539130  0.079549     0.129032  2012\n",
       "2012-02-01  0.491304  0.000000     0.215054  2012\n",
       "2012-03-01  0.386957  0.037011     0.193548  2012\n",
       "2012-04-01  0.573913  0.020954     0.204301  2012\n",
       "2012-05-01  0.452174  0.047453     0.182796  2012\n",
       "2012-06-01  0.330435  0.045207     0.161290  2012\n",
       "2012-07-01  0.482609  0.068003     0.182796  2012\n",
       "2012-08-01  0.473913  0.075585     0.129032  2012\n",
       "2012-09-01  0.543478  0.037768     0.086021  2012\n",
       "2012-11-01  0.556522  0.081190     0.086021  2012\n",
       "2012-12-01  0.639130  0.080300     0.118280  2012\n",
       "2013-01-01  0.543478  0.141896     0.236559  2013"
      ]
     },
     "execution_count": 79,
     "metadata": {},
     "output_type": "execute_result"
    }
   ],
   "source": [
    "df_leitura = pd.read_parquet(\"https://github.com/avellar1975/imersao_alura/blob/main/notebooks/dados_normalizados.parquet?raw=true\")\n",
    "df_leitura.head(13)"
   ]
  },
  {
   "cell_type": "code",
   "execution_count": 78,
   "id": "c6abbcd8",
   "metadata": {},
   "outputs": [
    {
     "name": "stdout",
     "output_type": "stream",
     "text": [
      "<class 'pandas.core.frame.DataFrame'>\n",
      "DatetimeIndex: 161 entries, 2012-01-01 to 2025-05-01\n",
      "Data columns (total 4 columns):\n",
      " #   Column       Non-Null Count  Dtype  \n",
      "---  ------       --------------  -----  \n",
      " 0   IPCA         161 non-null    float64\n",
      " 1   PIB          161 non-null    float64\n",
      " 2   Desocupacao  161 non-null    float64\n",
      " 3   Ano          161 non-null    int32  \n",
      "dtypes: float64(3), int32(1)\n",
      "memory usage: 5.7 KB\n"
     ]
    }
   ],
   "source": [
    "df_leitura.info()"
   ]
  }
 ],
 "metadata": {
  "kernelspec": {
   "display_name": ".venv",
   "language": "python",
   "name": "python3"
  },
  "language_info": {
   "codemirror_mode": {
    "name": "ipython",
    "version": 3
   },
   "file_extension": ".py",
   "mimetype": "text/x-python",
   "name": "python",
   "nbconvert_exporter": "python",
   "pygments_lexer": "ipython3",
   "version": "3.11.2"
  }
 },
 "nbformat": 4,
 "nbformat_minor": 5
}
